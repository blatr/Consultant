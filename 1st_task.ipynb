{
 "cells": [
  {
   "cell_type": "code",
   "execution_count": 56,
   "metadata": {
    "collapsed": true
   },
   "outputs": [
    {
     "name": "stdout",
     "output_type": "stream",
     "text": [
      "Collecting seaborn\n",
      "  Using cached seaborn-0.7.1.tar.gz\n",
      "Building wheels for collected packages: seaborn\n",
      "  Running setup.py bdist_wheel for seaborn: started\n",
      "  Running setup.py bdist_wheel for seaborn: finished with status 'done'\n",
      "  Stored in directory: C:\\Users\\Python2\\AppData\\Local\\pip\\Cache\\wheels\\cb\\c8\\67\\83d615c0ef9b529558525aa521025b183de8c5b156799b091e\n",
      "Successfully built seaborn\n",
      "Installing collected packages: seaborn\n",
      "Successfully installed seaborn-0.7.1\n"
     ]
    }
   ],
   "source": [
    "!pip install seaborn"
   ]
  },
  {
   "cell_type": "code",
   "execution_count": 57,
   "metadata": {
    "collapsed": false
   },
   "outputs": [],
   "source": [
    "import pandas as pd\n",
    "import numpy as np\n",
    "from __future__ import division \n",
    "from sklearn.metrics import confusion_matrix\n",
    "from sklearn import metrics\n",
    "from sklearn.preprocessing import StandardScaler\n",
    "from sklearn.cross_validation import train_test_split\n",
    "from sklearn.grid_search import GridSearchCV\n",
    "from sklearn.cross_validation import KFold\n",
    "from sklearn.svm import SVC\n",
    "from sklearn.cluster import KMeans\n",
    "from __future__ import unicode_literals\n",
    "import matplotlib.pyplot as plt\n",
    "import seaborn as sns\n",
    "import sklearn.cluster as cluster\n",
    "import time\n",
    "from sklearn import preprocessing\n",
    "from sklearn.preprocessing import StandardScaler  \n",
    "# from mlxtend.feature_selection import ExhaustiveFeatureSelector as EFS\n",
    "sns.set_context('poster')\n",
    "sns.set_color_codes()\n",
    "plot_kwds = {'alpha' : 0.25, 's' : 80, 'linewidths':0}\n",
    "# import sys\n",
    "# reload(sys)\n",
    "# sys.setdefaultencoding(\"utf-8\")"
   ]
  },
  {
   "cell_type": "code",
   "execution_count": 47,
   "metadata": {
    "collapsed": false
   },
   "outputs": [
    {
     "data": {
      "text/html": [
       "<div>\n",
       "<table border=\"1\" class=\"dataframe\">\n",
       "  <thead>\n",
       "    <tr style=\"text-align: right;\">\n",
       "      <th></th>\n",
       "      <th>Query</th>\n",
       "      <th>CTR1</th>\n",
       "      <th>CTR2</th>\n",
       "      <th>CTR3</th>\n",
       "      <th>CTR4</th>\n",
       "      <th>CTR5</th>\n",
       "      <th>CTR6</th>\n",
       "      <th>CTR7</th>\n",
       "      <th>CTR8</th>\n",
       "      <th>CTR9</th>\n",
       "      <th>CTR10</th>\n",
       "      <th>nctr</th>\n",
       "      <th>pred</th>\n",
       "      <th>skips</th>\n",
       "      <th>zeros</th>\n",
       "      <th>diffs</th>\n",
       "      <th>true</th>\n",
       "      <th>clust_predict</th>\n",
       "      <th>norm_diffs</th>\n",
       "    </tr>\n",
       "  </thead>\n",
       "  <tbody>\n",
       "    <tr>\n",
       "      <th>0</th>\n",
       "      <td>ярмарка выходного дня</td>\n",
       "      <td>31.914894</td>\n",
       "      <td>17.021277</td>\n",
       "      <td>8.510638</td>\n",
       "      <td>10.638298</td>\n",
       "      <td>2.127660</td>\n",
       "      <td>10.638298</td>\n",
       "      <td>6.382979</td>\n",
       "      <td>10.638298</td>\n",
       "      <td>8.510638</td>\n",
       "      <td>2.127660</td>\n",
       "      <td>0.294118</td>\n",
       "      <td>0</td>\n",
       "      <td>0</td>\n",
       "      <td>0</td>\n",
       "      <td>0.148936</td>\n",
       "      <td>0</td>\n",
       "      <td>1</td>\n",
       "      <td>0.466667</td>\n",
       "    </tr>\n",
       "    <tr>\n",
       "      <th>1</th>\n",
       "      <td>ярмарка</td>\n",
       "      <td>48.734177</td>\n",
       "      <td>6.329114</td>\n",
       "      <td>13.924051</td>\n",
       "      <td>10.759494</td>\n",
       "      <td>9.493671</td>\n",
       "      <td>6.329114</td>\n",
       "      <td>9.493671</td>\n",
       "      <td>6.329114</td>\n",
       "      <td>2.531646</td>\n",
       "      <td>1.898734</td>\n",
       "      <td>0.420765</td>\n",
       "      <td>0</td>\n",
       "      <td>0</td>\n",
       "      <td>0</td>\n",
       "      <td>0.348101</td>\n",
       "      <td>0</td>\n",
       "      <td>1</td>\n",
       "      <td>0.714286</td>\n",
       "    </tr>\n",
       "    <tr>\n",
       "      <th>2</th>\n",
       "      <td>яндекс</td>\n",
       "      <td>5.202312</td>\n",
       "      <td>2.890173</td>\n",
       "      <td>1.156069</td>\n",
       "      <td>1.734104</td>\n",
       "      <td>0.578035</td>\n",
       "      <td>0.000000</td>\n",
       "      <td>0.578035</td>\n",
       "      <td>0.578035</td>\n",
       "      <td>0.000000</td>\n",
       "      <td>0.000000</td>\n",
       "      <td>0.409091</td>\n",
       "      <td>0</td>\n",
       "      <td>0</td>\n",
       "      <td>3</td>\n",
       "      <td>0.023121</td>\n",
       "      <td>0</td>\n",
       "      <td>1</td>\n",
       "      <td>0.444444</td>\n",
       "    </tr>\n",
       "    <tr>\n",
       "      <th>3</th>\n",
       "      <td>янао</td>\n",
       "      <td>18.518518</td>\n",
       "      <td>11.111111</td>\n",
       "      <td>18.518518</td>\n",
       "      <td>11.111111</td>\n",
       "      <td>11.111111</td>\n",
       "      <td>7.407407</td>\n",
       "      <td>0.000000</td>\n",
       "      <td>0.000000</td>\n",
       "      <td>0.000000</td>\n",
       "      <td>3.703704</td>\n",
       "      <td>0.227273</td>\n",
       "      <td>0</td>\n",
       "      <td>0</td>\n",
       "      <td>3</td>\n",
       "      <td>0.074074</td>\n",
       "      <td>0</td>\n",
       "      <td>1</td>\n",
       "      <td>0.400000</td>\n",
       "    </tr>\n",
       "    <tr>\n",
       "      <th>4</th>\n",
       "      <td>якутия</td>\n",
       "      <td>6.666667</td>\n",
       "      <td>6.666667</td>\n",
       "      <td>3.333333</td>\n",
       "      <td>3.333333</td>\n",
       "      <td>0.000000</td>\n",
       "      <td>3.333333</td>\n",
       "      <td>3.333333</td>\n",
       "      <td>3.333333</td>\n",
       "      <td>0.000000</td>\n",
       "      <td>0.000000</td>\n",
       "      <td>0.222222</td>\n",
       "      <td>0</td>\n",
       "      <td>0</td>\n",
       "      <td>3</td>\n",
       "      <td>0.033333</td>\n",
       "      <td>0</td>\n",
       "      <td>1</td>\n",
       "      <td>0.500000</td>\n",
       "    </tr>\n",
       "    <tr>\n",
       "      <th>5</th>\n",
       "      <td>як-7-8/393</td>\n",
       "      <td>98.850575</td>\n",
       "      <td>5.747126</td>\n",
       "      <td>0.000000</td>\n",
       "      <td>0.000000</td>\n",
       "      <td>0.000000</td>\n",
       "      <td>0.000000</td>\n",
       "      <td>0.000000</td>\n",
       "      <td>0.000000</td>\n",
       "      <td>0.000000</td>\n",
       "      <td>0.000000</td>\n",
       "      <td>0.945055</td>\n",
       "      <td>0</td>\n",
       "      <td>0</td>\n",
       "      <td>8</td>\n",
       "      <td>0.931034</td>\n",
       "      <td>1</td>\n",
       "      <td>0</td>\n",
       "      <td>0.941860</td>\n",
       "    </tr>\n",
       "    <tr>\n",
       "      <th>6</th>\n",
       "      <td>як-7-8/392</td>\n",
       "      <td>88.135593</td>\n",
       "      <td>0.000000</td>\n",
       "      <td>0.000000</td>\n",
       "      <td>0.000000</td>\n",
       "      <td>0.000000</td>\n",
       "      <td>0.000000</td>\n",
       "      <td>0.000000</td>\n",
       "      <td>0.000000</td>\n",
       "      <td>0.000000</td>\n",
       "      <td>0.000000</td>\n",
       "      <td>1.000000</td>\n",
       "      <td>1</td>\n",
       "      <td>0</td>\n",
       "      <td>9</td>\n",
       "      <td>0.881356</td>\n",
       "      <td>1</td>\n",
       "      <td>0</td>\n",
       "      <td>1.000000</td>\n",
       "    </tr>\n",
       "    <tr>\n",
       "      <th>7</th>\n",
       "      <td>як-7-6/488</td>\n",
       "      <td>89.795918</td>\n",
       "      <td>12.244898</td>\n",
       "      <td>2.040816</td>\n",
       "      <td>0.000000</td>\n",
       "      <td>0.000000</td>\n",
       "      <td>0.000000</td>\n",
       "      <td>0.000000</td>\n",
       "      <td>0.000000</td>\n",
       "      <td>0.000000</td>\n",
       "      <td>0.000000</td>\n",
       "      <td>0.862745</td>\n",
       "      <td>0</td>\n",
       "      <td>0</td>\n",
       "      <td>7</td>\n",
       "      <td>0.775510</td>\n",
       "      <td>1</td>\n",
       "      <td>0</td>\n",
       "      <td>0.863636</td>\n",
       "    </tr>\n",
       "    <tr>\n",
       "      <th>8</th>\n",
       "      <td>як-7-1/9</td>\n",
       "      <td>90.163934</td>\n",
       "      <td>0.000000</td>\n",
       "      <td>0.000000</td>\n",
       "      <td>0.000000</td>\n",
       "      <td>0.000000</td>\n",
       "      <td>0.000000</td>\n",
       "      <td>0.000000</td>\n",
       "      <td>0.000000</td>\n",
       "      <td>0.000000</td>\n",
       "      <td>0.000000</td>\n",
       "      <td>1.000000</td>\n",
       "      <td>1</td>\n",
       "      <td>0</td>\n",
       "      <td>9</td>\n",
       "      <td>0.901639</td>\n",
       "      <td>1</td>\n",
       "      <td>0</td>\n",
       "      <td>1.000000</td>\n",
       "    </tr>\n",
       "    <tr>\n",
       "      <th>9</th>\n",
       "      <td>яйцо</td>\n",
       "      <td>0.000000</td>\n",
       "      <td>8.823529</td>\n",
       "      <td>2.941177</td>\n",
       "      <td>0.000000</td>\n",
       "      <td>0.000000</td>\n",
       "      <td>2.941177</td>\n",
       "      <td>0.000000</td>\n",
       "      <td>0.000000</td>\n",
       "      <td>0.000000</td>\n",
       "      <td>2.941177</td>\n",
       "      <td>0.500000</td>\n",
       "      <td>0</td>\n",
       "      <td>1</td>\n",
       "      <td>6</td>\n",
       "      <td>0.058824</td>\n",
       "      <td>0</td>\n",
       "      <td>0</td>\n",
       "      <td>0.666667</td>\n",
       "    </tr>\n",
       "  </tbody>\n",
       "</table>\n",
       "</div>"
      ],
      "text/plain": [
       "                   Query       CTR1       CTR2       CTR3       CTR4  \\\n",
       "0  ярмарка выходного дня  31.914894  17.021277   8.510638  10.638298   \n",
       "1                ярмарка  48.734177   6.329114  13.924051  10.759494   \n",
       "2                 яндекс   5.202312   2.890173   1.156069   1.734104   \n",
       "3                   янао  18.518518  11.111111  18.518518  11.111111   \n",
       "4                 якутия   6.666667   6.666667   3.333333   3.333333   \n",
       "5             як-7-8/393  98.850575   5.747126   0.000000   0.000000   \n",
       "6             як-7-8/392  88.135593   0.000000   0.000000   0.000000   \n",
       "7             як-7-6/488  89.795918  12.244898   2.040816   0.000000   \n",
       "8               як-7-1/9  90.163934   0.000000   0.000000   0.000000   \n",
       "9                   яйцо   0.000000   8.823529   2.941177   0.000000   \n",
       "\n",
       "        CTR5       CTR6      CTR7       CTR8      CTR9     CTR10      nctr  \\\n",
       "0   2.127660  10.638298  6.382979  10.638298  8.510638  2.127660  0.294118   \n",
       "1   9.493671   6.329114  9.493671   6.329114  2.531646  1.898734  0.420765   \n",
       "2   0.578035   0.000000  0.578035   0.578035  0.000000  0.000000  0.409091   \n",
       "3  11.111111   7.407407  0.000000   0.000000  0.000000  3.703704  0.227273   \n",
       "4   0.000000   3.333333  3.333333   3.333333  0.000000  0.000000  0.222222   \n",
       "5   0.000000   0.000000  0.000000   0.000000  0.000000  0.000000  0.945055   \n",
       "6   0.000000   0.000000  0.000000   0.000000  0.000000  0.000000  1.000000   \n",
       "7   0.000000   0.000000  0.000000   0.000000  0.000000  0.000000  0.862745   \n",
       "8   0.000000   0.000000  0.000000   0.000000  0.000000  0.000000  1.000000   \n",
       "9   0.000000   2.941177  0.000000   0.000000  0.000000  2.941177  0.500000   \n",
       "\n",
       "   pred  skips  zeros     diffs  true  clust_predict  norm_diffs  \n",
       "0     0      0      0  0.148936     0              1    0.466667  \n",
       "1     0      0      0  0.348101     0              1    0.714286  \n",
       "2     0      0      3  0.023121     0              1    0.444444  \n",
       "3     0      0      3  0.074074     0              1    0.400000  \n",
       "4     0      0      3  0.033333     0              1    0.500000  \n",
       "5     0      0      8  0.931034     1              0    0.941860  \n",
       "6     1      0      9  0.881356     1              0    1.000000  \n",
       "7     0      0      7  0.775510     1              0    0.863636  \n",
       "8     1      0      9  0.901639     1              0    1.000000  \n",
       "9     0      1      6  0.058824     0              0    0.666667  "
      ]
     },
     "execution_count": 47,
     "metadata": {},
     "output_type": "execute_result"
    }
   ],
   "source": [
    "ta1.head(n=10)"
   ]
  },
  {
   "cell_type": "code",
   "execution_count": 76,
   "metadata": {
    "collapsed": false
   },
   "outputs": [],
   "source": [
    "writer = pd.ExcelWriter('output.xlsx')\n",
    "ta1.to_excel(writer,'Sheet1')\n",
    "writer.save()"
   ]
  },
  {
   "cell_type": "code",
   "execution_count": 29,
   "metadata": {
    "collapsed": false
   },
   "outputs": [],
   "source": [
    "ta1=pd.read_excel('table_1.xlsx')\n",
    "ta1['nctr']=0\n",
    "ta1['pred']=0\n",
    "ta1['skips']=0\n",
    "ta1['zeros']=0\n",
    "ta1['diffs']=0\n",
    "ta1['norm_diffs']=0\n",
    "ta2=pd.read_excel('table_2.xlsx')\n",
    "ta3=pd.read_excel('table_3.xlsx')\n",
    "cleanup_nums = {\"type\":{\"nonav\": 0, \"nav\": 1}}\n",
    "ta3.replace(cleanup_nums,inplace=True)\n",
    "ta1['true']=ta3.type"
   ]
  },
  {
   "cell_type": "markdown",
   "metadata": {},
   "source": [
    "В данном задании основной упор мною был сделан на таблицу 2, где хранятся ctr первых десяти ссылок."
   ]
  },
  {
   "cell_type": "markdown",
   "metadata": {},
   "source": [
    "Для решения задачи кластеризации нам необходимо сгенерировать несколько значимых \"фичей\", по которым будет проихводиться кластеризация."
   ]
  },
  {
   "cell_type": "markdown",
   "metadata": {},
   "source": [
    "Фича 1: Отношение максильманого ctr к сумме ctr десяти ссылок по данному запросу"
   ]
  },
  {
   "cell_type": "code",
   "execution_count": 7,
   "metadata": {
    "collapsed": false
   },
   "outputs": [],
   "source": [
    "def calculate_pred(ta1):\n",
    "    for k,n in ta1.iterrows():\n",
    "        sumrow=np.sum(n[1:11])\n",
    "    #     print (sumrow)\n",
    "    #     print (np.max(n[1:].values/sumrow))\n",
    "        if(sumrow!=0):\n",
    "    #         print (np.max(n[1:11].values) , np.log(np.max(n[1:11].values)), np.log(sumrow))\n",
    "#             ta1.iloc[k,11]=(np.log(np.max(n[1:11].values))/np.log(sumrow))\n",
    "              ta1.iloc[k,11]=(np.max(n[1:11].values)/sumrow)\n",
    "        else:\n",
    "            ta1.iloc[k,11]=0\n",
    "    #     print (n[1:].values)\n",
    "    #     for \n",
    "#     for k in range(0,len(ta1)):\n",
    "#         if(ta1.iloc[k,11]>=threshold):\n",
    "#             ta1.iloc[k,12]=1\n",
    "#         else:\n",
    "#             ta1.iloc[k,12]=0"
   ]
  },
  {
   "cell_type": "code",
   "execution_count": 8,
   "metadata": {
    "collapsed": false
   },
   "outputs": [],
   "source": [
    "calculate_pred(ta1)"
   ]
  },
  {
   "cell_type": "markdown",
   "metadata": {},
   "source": [
    "Фича 2: Количетсво пропущенных ссылок до первой нажатой"
   ]
  },
  {
   "cell_type": "code",
   "execution_count": 9,
   "metadata": {
    "collapsed": false
   },
   "outputs": [],
   "source": [
    "def calculate_skips():\n",
    "    for k,n in ta1.iterrows():\n",
    "        num_zer=0\n",
    "        for z in range(1,11):\n",
    "            if (n[z])==0:\n",
    "                num_zer+=1\n",
    "            else:\n",
    "                break\n",
    "        ta1.ix[k,\"skips\"]=num_zer"
   ]
  },
  {
   "cell_type": "code",
   "execution_count": 10,
   "metadata": {
    "collapsed": false
   },
   "outputs": [],
   "source": [
    "calculate_skips()"
   ]
  },
  {
   "cell_type": "markdown",
   "metadata": {},
   "source": [
    "Фича 3: Разница между соседними ctr"
   ]
  },
  {
   "cell_type": "code",
   "execution_count": 11,
   "metadata": {
    "collapsed": true
   },
   "outputs": [],
   "source": [
    "def calculate_diffs():\n",
    "    for k,n in ta1.iterrows():\n",
    "        max_dif=np.max(np.abs(np.diff(np.sort(n[1:11]))))\n",
    "        ta1.ix[k,\"diffs\"]=max_dif\n",
    "#     ta1[\"diffs\"]=np.power(ta1[\"diffs\"].values,2)"
   ]
  },
  {
   "cell_type": "code",
   "execution_count": 12,
   "metadata": {
    "collapsed": true
   },
   "outputs": [],
   "source": [
    "def calculate_norm_diffs():\n",
    "    for k,n in ta1.iterrows():\n",
    "        if(np.max(n[1:11])>0):\n",
    "            max_dif=np.log(np.max(np.abs(np.diff(np.sort(n[1:11])))))/np.log(np.max(n[1:11]))\n",
    "            ta1.ix[k,\"norm_diffs\"]=max_dif\n",
    "        else:\n",
    "            ta1.ix[k,\"norm_diffs\"]=0\n",
    "#     ta1[\"diffs\"]=np.power(ta1[\"diffs\"].values,2)"
   ]
  },
  {
   "cell_type": "code",
   "execution_count": 13,
   "metadata": {
    "collapsed": false
   },
   "outputs": [],
   "source": [
    "ta1[\"diffs\"]=np.divide(ta1[\"diffs\"].values,100)"
   ]
  },
  {
   "cell_type": "code",
   "execution_count": 14,
   "metadata": {
    "collapsed": true
   },
   "outputs": [],
   "source": [
    "calculate_diffs()"
   ]
  },
  {
   "cell_type": "code",
   "execution_count": 17,
   "metadata": {
    "collapsed": true
   },
   "outputs": [],
   "source": [
    "calculate_norm_diffs()"
   ]
  },
  {
   "cell_type": "markdown",
   "metadata": {},
   "source": [
    "Фича 4: Количество пропущенных значений"
   ]
  },
  {
   "cell_type": "code",
   "execution_count": 15,
   "metadata": {
    "collapsed": false
   },
   "outputs": [],
   "source": [
    "def calculate_zeros():\n",
    "     for k,n in ta1.iterrows():\n",
    "        ta1.ix[k,\"zeros\"]=list((n[1:11].values)).count(0)"
   ]
  },
  {
   "cell_type": "code",
   "execution_count": 16,
   "metadata": {
    "collapsed": false
   },
   "outputs": [],
   "source": [
    "calculate_zeros()"
   ]
  },
  {
   "cell_type": "code",
   "execution_count": 37,
   "metadata": {
    "collapsed": false
   },
   "outputs": [
    {
     "name": "stdout",
     "output_type": "stream",
     "text": [
      "2862\n"
     ]
    }
   ],
   "source": [
    "k2=[str(x).lower() for x in ta1.iloc[:,0].unique().tolist()]\n",
    "k3=[str(x).lower() for x in ta2.iloc[:,0].unique().tolist()]\n",
    "n=0\n",
    "for k in k2:\n",
    "    if (k not in k3):\n",
    "#         print (k)\n",
    "        n+=1\n",
    "    \n",
    "print (n)\n",
    "# len(ta3.iloc[:,0].unique())"
   ]
  },
  {
   "cell_type": "markdown",
   "metadata": {},
   "source": [
    "# Кластеризация"
   ]
  },
  {
   "cell_type": "markdown",
   "metadata": {},
   "source": [
    "В результате анализа было выявлено, что наибольшая прирост точности кластеризация дает на фичах (3) и (4)"
   ]
  },
  {
   "cell_type": "markdown",
   "metadata": {},
   "source": [
    "Перед кластеризацией используем StandardScaler() для нормировки фич."
   ]
  },
  {
   "cell_type": "code",
   "execution_count": 49,
   "metadata": {
    "collapsed": false
   },
   "outputs": [
    {
     "data": {
      "text/plain": [
       "KMeans(algorithm='auto', copy_x=True, init=u'k-means++', max_iter=300,\n",
       "    n_clusters=2, n_init=10, n_jobs=1, precompute_distances='auto',\n",
       "    random_state=241, tol=0.0001, verbose=0)"
      ]
     },
     "execution_count": 49,
     "metadata": {},
     "output_type": "execute_result"
    }
   ],
   "source": [
    "km=KMeans(init='k-means++',random_state=241,n_clusters=2)\n",
    "km.fit(StandardScaler().fit_transform(X=(ta1.ix[:,['norm_diffs','zeros']])))"
   ]
  },
  {
   "cell_type": "code",
   "execution_count": 72,
   "metadata": {
    "collapsed": false
   },
   "outputs": [],
   "source": [
    "ta1=ta1.drop(ta1.ix['clust_predict'])"
   ]
  },
  {
   "cell_type": "code",
   "execution_count": 75,
   "metadata": {
    "collapsed": false
   },
   "outputs": [],
   "source": [
    "ta1.ix[:,'clust_predict']=res"
   ]
  },
  {
   "cell_type": "code",
   "execution_count": 50,
   "metadata": {
    "collapsed": false
   },
   "outputs": [],
   "source": [
    "res=km.predict(StandardScaler().fit_transform(ta1.ix[:,['norm_diffs','zeros']]))"
   ]
  },
  {
   "cell_type": "code",
   "execution_count": 42,
   "metadata": {
    "collapsed": false
   },
   "outputs": [],
   "source": [
    "def plot_confusion_matrix(y_true, y_pred, title = 'Confusion matrix', cmap=plt.cm.Blues):\n",
    "    from sklearn.metrics import classification_report\n",
    "    from sklearn.metrics import confusion_matrix\n",
    "    print 'Classification Report:\\n'\n",
    "    print classification_report(ta1.true, y_pred)\n",
    "    cm = confusion_matrix(y_true, y_pred)\n",
    "    def plot_confusion_matrix_plot(cm, title = 'Confusion matrix', cmap=plt.cm.Blues):\n",
    "        plt.imshow(cm, interpolation='nearest', cmap=cmap)\n",
    "        plt.title(title)\n",
    "        plt.colorbar()\n",
    "        tick_marks = np.arange(len(ta1.true.unique()))\n",
    "        plt.xticks(tick_marks, rotation=45)\n",
    "        plt.yticks(tick_marks)\n",
    "        plt.tight_layout()\n",
    "        plt.ylabel('True label')\n",
    "        plt.xlabel('Predicted label')\n",
    "    \n",
    "    print '\\n Confusion matrix, without normalization: \\n'\n",
    "    print cm\n",
    "    plot_confusion_matrix_plot(cm=cm)\n",
    "    \n",
    "    cm_normalized = cm.astype('float') / cm.sum(axis=1)[:, np.newaxis]\n",
    "    print('\\n Normalized confusion matrix \\n')\n",
    "    print(cm_normalized)\n",
    "    plt.figure()\n",
    "    plot_confusion_matrix_plot(cm_normalized, title='Normalized confusion matrix')\n"
   ]
  },
  {
   "cell_type": "markdown",
   "metadata": {},
   "source": [
    "Результаты приведены для обычной и нормированной версии фичи (3)."
   ]
  },
  {
   "cell_type": "code",
   "execution_count": 48,
   "metadata": {
    "collapsed": false
   },
   "outputs": [
    {
     "name": "stdout",
     "output_type": "stream",
     "text": [
      "Classification Report:\n",
      "\n",
      "             precision    recall  f1-score   support\n",
      "\n",
      "          0       0.86      0.92      0.89     34765\n",
      "          1       0.82      0.71      0.76     18516\n",
      "\n",
      "avg / total       0.84      0.85      0.84     53281\n",
      "\n",
      "\n",
      " Confusion matrix, without normalization: \n",
      "\n",
      "[[31837  2928]\n",
      " [ 5321 13195]]\n",
      "\n",
      " Normalized confusion matrix \n",
      "\n",
      "[[ 0.91577736  0.08422264]\n",
      " [ 0.28737308  0.71262692]]\n"
     ]
    },
    {
     "data": {
      "image/png": "[encoded data removed]",
      "text/plain": [
       "<matplotlib.figure.Figure at 0xea9f358>"
      ]
     },
     "metadata": {},
     "output_type": "display_data"
    },
    {
     "data": {
      "image/png": "[encoded data removed]",
      "text/plain": [
       "<matplotlib.figure.Figure at 0xc501470>"
      ]
     },
     "metadata": {},
     "output_type": "display_data"
    }
   ],
   "source": [
    "plot_confusion_matrix(ta1.true,res)"
   ]
  },
  {
   "cell_type": "code",
   "execution_count": 51,
   "metadata": {
    "collapsed": false
   },
   "outputs": [
    {
     "name": "stdout",
     "output_type": "stream",
     "text": [
      "Classification Report:\n",
      "\n",
      "             precision    recall  f1-score   support\n",
      "\n",
      "          0       0.88      0.87      0.87     34765\n",
      "          1       0.76      0.78      0.77     18516\n",
      "\n",
      "avg / total       0.84      0.84      0.84     53281\n",
      "\n",
      "\n",
      " Confusion matrix, without normalization: \n",
      "\n",
      "[[30078  4687]\n",
      " [ 4019 14497]]\n",
      "\n",
      " Normalized confusion matrix \n",
      "\n",
      "[[ 0.8651805   0.1348195 ]\n",
      " [ 0.21705552  0.78294448]]\n"
     ]
    },
    {
     "data": {
      "image/png": "[encoded data removed]",
      "text/plain": [
       "<matplotlib.figure.Figure at 0xc34d940>"
      ]
     },
     "metadata": {},
     "output_type": "display_data"
    },
    {
     "data": {
      "image/png": "[encoded data removed]",
      "text/plain": [
       "<matplotlib.figure.Figure at 0xdf7c9e8>"
      ]
     },
     "metadata": {},
     "output_type": "display_data"
    }
   ],
   "source": [
    "plot_confusion_matrix(ta1.true,res)"
   ]
  },
  {
   "cell_type": "markdown",
   "metadata": {},
   "source": [
    "Результаты приведены для двух случаев т.к. их поведение немного отличается. Нормированный вариант более лоялен, и в результате вместе с увеличением правильных ответов появляется больше ошибок (False Positive), в отличие от обычного варианта, который выдает чуть меньше правильных ответов, но и часть ошибок (FP) переходит в (False Negative) "
   ]
  },
  {
   "cell_type": "markdown",
   "metadata": {},
   "source": [
    "В результате точность получилась  в районе 86-88%, что само по себе не так плохо для такого небольшого количества фичей. У меня не очень большой опыт в генерации новых параметров для модели, поэтому скорее всего я упустил какую-то очень важную деталь."
   ]
  },
  {
   "cell_type": "markdown",
   "metadata": {},
   "source": [
    "Основные расхождения у меня были в запросах, где кликовая статистика не соответствовала, как мне казалось, типу запроса. \n",
    "Например: запрос \"юридическое лицо\", появляющийся дважды имел два варианта кликовой статистики. И тот вариант, где людей почти стабильно удовлетворяла первая ссылка, являлся ненавигационным. Или запрос \"порядок уничтожения документов\", по которому пользователей, как правило, удовлетворяла первая ссылка. На мой взгляд, для таких запросов вычисление \"навигационности\" должно происходить с использованием семантической обработки текста(NLP)."
   ]
  },
  {
   "cell_type": "code",
   "execution_count": 58,
   "metadata": {
    "collapsed": true
   },
   "outputs": [],
   "source": [
    "def plot_clusters_k_means(data):\n",
    "    start_time = time.time()\n",
    "    labels = KMeans(init='k-means++',random_state=241,n_clusters=2).fit_predict(data)\n",
    "    end_time = time.time()\n",
    "    palette = sns.color_palette('deep', np.unique(labels).max() + 1)\n",
    "    colors = [palette[x] if x >= 0 else (0.0, 0.0, 0.0) for x in labels]\n",
    "    plt.scatter(data.T[0], data.T[1], c=colors, **plot_kwds)\n",
    "    frame = plt.gca()\n",
    "    frame.axes.get_xaxis().set_visible(False)\n",
    "    frame.axes.get_yaxis().set_visible(False)\n",
    "    plt.title('Clusters found by {}'.format(str('K-Means')), fontsize=24)\n",
    "    plt.text(-0.5, 0.7, 'Clustering took {:.2f} s'.format(end_time - start_time), fontsize=14)"
   ]
  },
  {
   "cell_type": "markdown",
   "metadata": {},
   "source": [
    "Не очень информативный график кластеризации:)"
   ]
  },
  {
   "cell_type": "code",
   "execution_count": 59,
   "metadata": {
    "collapsed": false,
    "scrolled": true
   },
   "outputs": [
    {
     "data": {
      "image/png": "[encoded data removed]",
      "text/plain": [
       "<matplotlib.figure.Figure at 0xe6b5e10>"
      ]
     },
     "metadata": {},
     "output_type": "display_data"
    }
   ],
   "source": [
    "plot_clusters_k_means(preprocessing.scale(ta1.ix[:,['norm_diffs','zeros']]))"
   ]
  },
  {
   "cell_type": "code",
   "execution_count": 13,
   "metadata": {
    "collapsed": false
   },
   "outputs": [
    {
     "data": {
      "text/plain": [
       "0"
      ]
     },
     "execution_count": 13,
     "metadata": {},
     "output_type": "execute_result"
    }
   ],
   "source": [
    "import gc\n",
    "gc.collect()"
   ]
  }
 ],
 "metadata": {
  "anaconda-cloud": {},
  "kernelspec": {
   "display_name": "Python [conda root]",
   "language": "python",
   "name": "conda-root-py"
  },
  "language_info": {
   "codemirror_mode": {
    "name": "ipython",
    "version": 2
   },
   "file_extension": ".py",
   "mimetype": "text/x-python",
   "name": "python",
   "nbconvert_exporter": "python",
   "pygments_lexer": "ipython2",
   "version": "2.7.12"
  }
 },
 "nbformat": 4,
 "nbformat_minor": 1
}
